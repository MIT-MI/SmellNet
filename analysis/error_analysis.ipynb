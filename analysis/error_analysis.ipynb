{
 "cells": [
  {
   "cell_type": "code",
   "execution_count": 1,
   "id": "a0ab5ecc",
   "metadata": {},
   "outputs": [],
   "source": [
    "import os\n",
    "from collections import defaultdict\n",
    "import pandas as pd\n",
    "import re\n",
    "from pathlib import Path\n",
    "import numpy as np"
   ]
  },
  {
   "cell_type": "code",
   "execution_count": 2,
   "id": "96d1223b",
   "metadata": {},
   "outputs": [],
   "source": [
    "file_path = \"/home/dewei/workspace/SmellNet/logs/transformer_gradient_1747893422.3231194.log\"\n",
    "\n",
    "accuracies = defaultdict(lambda: defaultdict(list))\n",
    "\n",
    "model_type = \"regular\"\n",
    "\n",
    "with open(file_path) as f:\n",
    "    log_file = f.readlines()\n",
    "    run_name = \"\"\n",
    "    run_ix = [ix for ix in range(len(log_file)) if \"Run\" in log_file[ix]]\n",
    "    for ix in range(0, len(run_ix), 2):\n",
    "        if ix < 20:\n",
    "            name = \"25\"\n",
    "        elif 20 <= ix < 40:\n",
    "            name = \"50\"\n",
    "        # else:\n",
    "        #     name = \"noisy\"\n",
    "            \n",
    "        accuracies[name][\"run time\"].append(float(log_file[run_ix[ix] + 2].split(\" \")[-1][:-2]))\n",
    "        accuracies[name][\"all test top 1\"].append(float(log_file[run_ix[ix] + 3].split(\" \")[-1][:-2]))\n",
    "        accuracies[name][\"all test top 5\"].append(float(log_file[run_ix[ix] + 4].split(\" \")[-1][:-2]))\n",
    "        accuracies[name][\"offline nut top 1\"].append(float(log_file[run_ix[ix] + 10].split(\" \")[-1][:-2]))\n",
    "        accuracies[name][\"offline nut top 5\"].append(float(log_file[run_ix[ix] + 11].split(\" \")[-1][:-2]))\n",
    "        accuracies[name][\"offline spice top 1\"].append(float(log_file[run_ix[ix] + 13].split(\" \")[-1][:-2]))\n",
    "        accuracies[name][\"offline spice top 5\"].append(float(log_file[run_ix[ix] + 14].split(\" \")[-1][:-2]))\n",
    "        accuracies[name][\"offline herb top 1\"].append(float(log_file[run_ix[ix] + 16].split(\" \")[-1][:-2]))\n",
    "        accuracies[name][\"offline herb top 5\"].append(float(log_file[run_ix[ix] + 17].split(\" \")[-1][:-2]))\n",
    "        accuracies[name][\"offline fruit top 1\"].append(float(log_file[run_ix[ix] + 19].split(\" \")[-1][:-2]))\n",
    "        accuracies[name][\"offline fruit top 5\"].append(float(log_file[run_ix[ix] + 20].split(\" \")[-1][:-2]))\n",
    "        accuracies[name][\"offline vegetable top 1\"].append(float(log_file[run_ix[ix] + 22].split(\" \")[-1][:-2]))\n",
    "        accuracies[name][\"offline vegetable top 5\"].append(float(log_file[run_ix[ix] + 23].split(\" \")[-1][:-2]))\n",
    "        accuracies[name][\"online nut top 1\"].append(float(log_file[run_ix[ix] + 5].split(\" \")[-1][:-2]))\n",
    "        accuracies[name][\"online nut top 5\"].append(float(log_file[run_ix[ix] + 6].split(\" \")[-1][:-2]))\n",
    "        accuracies[name][\"online spice top 1\"].append(float(log_file[run_ix[ix] + 7].split(\" \")[-1][:-2]))\n",
    "        accuracies[name][\"online spice top 5\"].append(float(log_file[run_ix[ix] + 8].split(\" \")[-1][:-2]))"
   ]
  },
  {
   "cell_type": "code",
   "execution_count": 10,
   "id": "5cc82382",
   "metadata": {},
   "outputs": [
    {
     "name": "stdout",
     "output_type": "stream",
     "text": [
      "===== RUN STATS =====\n",
      "run time                       mean:  79.06 | std:   0.46\n",
      "all test top 1                 mean:  62.47 | std:   1.85\n",
      "all test top 5                 mean:  90.98 | std:   1.39\n",
      "offline nut top 1              mean:  59.23 | std:   4.19\n",
      "offline nut top 5              mean:  89.90 | std:   2.78\n",
      "offline spice top 1            mean:  62.32 | std:   3.22\n",
      "offline spice top 5            mean:  93.68 | std:   2.75\n",
      "offline herb top 1             mean:  58.25 | std:   4.28\n",
      "offline herb top 5             mean:  83.71 | std:   4.61\n",
      "offline fruit top 1            mean:  72.55 | std:   6.09\n",
      "offline fruit top 5            mean:  94.26 | std:   2.94\n",
      "offline vegetable top 1        mean:  60.44 | std:   3.80\n",
      "offline vegetable top 5        mean:  93.70 | std:   2.74\n",
      "online nut top 1               mean:   7.94 | std:   3.55\n",
      "online nut top 5               mean:  31.86 | std:   3.38\n",
      "online spice top 1             mean:  22.92 | std:   6.24\n",
      "online spice top 5             mean:  59.92 | std:   7.56\n"
     ]
    }
   ],
   "source": [
    "print(\"===== RUN STATS =====\")\n",
    "for key, values in accuracies[\"25\"].items():\n",
    "    arr = np.array(values)\n",
    "    print(f\"{key:30} mean: {arr.mean():6.2f} | std: {arr.std():6.2f}\")"
   ]
  },
  {
   "cell_type": "code",
   "execution_count": 5,
   "id": "fe5484da",
   "metadata": {},
   "outputs": [
    {
     "name": "stdout",
     "output_type": "stream",
     "text": [
      "59.11\t1.80\t88.49\t1.86\t63.54\t3.84\t91.56\t3.11\t47.61\t5.60\t83.98\t3.54\t55.34\t2.10\t83.07\t5.09\t74.60\t3.56\t96.18\t1.89\t54.00\t5.10\t87.33\t4.31\t8.00\t3.74\t30.52\t6.51\t27.44\t4.42\t67.27\t6.10\n"
     ]
    }
   ],
   "source": [
    "row_values = []\n",
    "for key, values in accuracies[\"50\"].items():\n",
    "    if key == \"run time\":\n",
    "        continue\n",
    "    arr = np.array(values)\n",
    "    row_values.extend([f\"{arr.mean():.2f}\", f\"{arr.std():.2f}\"])\n",
    "\n",
    "# Output as tab-separated one-liner\n",
    "tsv_row = \"\\t\".join(row_values)\n",
    "print(tsv_row)"
   ]
  }
 ],
 "metadata": {
  "kernelspec": {
   "display_name": "base",
   "language": "python",
   "name": "python3"
  },
  "language_info": {
   "codemirror_mode": {
    "name": "ipython",
    "version": 3
   },
   "file_extension": ".py",
   "mimetype": "text/x-python",
   "name": "python",
   "nbconvert_exporter": "python",
   "pygments_lexer": "ipython3",
   "version": "3.13.2"
  }
 },
 "nbformat": 4,
 "nbformat_minor": 5
}
