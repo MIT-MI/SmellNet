{
 "cells": [
  {
   "cell_type": "code",
   "execution_count": 2,
   "id": "ca786fe3",
   "metadata": {},
   "outputs": [
    {
     "name": "stdout",
     "output_type": "stream",
     "text": [
      "✅ Done! FileSets written to generated_filesets.json\n"
     ]
    }
   ],
   "source": [
    "import os\n",
    "import json\n",
    "\n",
    "# === Configuration ===\n",
    "BASE_DIR = \"/home/dewei/workspace/smell-net/data\"  # <-- change this\n",
    "TARGET_FOLDERS = {\n",
    "    \"Offline_Test_Sensor_Time_Series\": \"offline_testing\",\n",
    "    \"Offline_Training_Sensor_Time_Series\": \"offline_training\",\n",
    "    \"Online_Nuts_Sensor_Time_Series\": \"online_nuts\",\n",
    "    \"Online_Spice_Sensor_Time_Series\": \"online_spice\",\n",
    "    \"Raw_Sensor_Files\": \"raw_data\"\n",
    "}\n",
    "\n",
    "# === Recursive scanner and metadata builder ===\n",
    "def collect_csv_files(folder_root, relative_prefix=\"\"):\n",
    "    includes = []\n",
    "    for root, _, files in os.walk(folder_root):\n",
    "        for f in files:\n",
    "            if f.endswith(\".csv\"):\n",
    "                abs_path = os.path.join(root, f)\n",
    "                rel_path = os.path.relpath(abs_path, BASE_DIR).replace(\"\\\\\", \"/\")\n",
    "                includes.append({\n",
    "                    \"@type\": \"FileObject\",\n",
    "                    \"name\": f,\n",
    "                    \"path\": rel_path\n",
    "                })\n",
    "    return includes\n",
    "\n",
    "# === Build FileSets ===\n",
    "file_sets = []\n",
    "\n",
    "for set_name, relative_folder in TARGET_FOLDERS.items():\n",
    "    abs_folder_path = os.path.join(BASE_DIR, relative_folder)\n",
    "    if not os.path.exists(abs_folder_path):\n",
    "        continue\n",
    "\n",
    "    includes = collect_csv_files(abs_folder_path)\n",
    "    file_sets.append({\n",
    "        \"@type\": \"FileSet\",\n",
    "        \"name\": set_name,\n",
    "        \"description\": f\"Sensor CSVs from {relative_folder.replace('_', ' ')}\",\n",
    "        \"encodingFormat\": \"text/csv\",\n",
    "        \"includes\": includes\n",
    "    })\n",
    "\n",
    "# === Save to JSON ===\n",
    "with open(\"generated_filesets.json\", \"w\") as f:\n",
    "    json.dump(file_sets, f, indent=2)\n",
    "\n",
    "print(\"✅ Done! FileSets written to generated_filesets.json\")"
   ]
  }
 ],
 "metadata": {
  "kernelspec": {
   "display_name": "base",
   "language": "python",
   "name": "python3"
  },
  "language_info": {
   "codemirror_mode": {
    "name": "ipython",
    "version": 3
   },
   "file_extension": ".py",
   "mimetype": "text/x-python",
   "name": "python",
   "nbconvert_exporter": "python",
   "pygments_lexer": "ipython3",
   "version": "3.13.2"
  }
 },
 "nbformat": 4,
 "nbformat_minor": 5
}
