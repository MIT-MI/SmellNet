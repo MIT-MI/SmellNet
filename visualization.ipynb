{
 "cells": [
  {
   "cell_type": "code",
   "execution_count": null,
   "id": "069d2b3c",
   "metadata": {},
   "outputs": [
    {
     "data": {
      "text/plain": [
       "'smellnet_dataset_structure.png'"
      ]
     },
     "execution_count": 2,
     "metadata": {},
     "output_type": "execute_result"
    },
    {
     "name": "stderr",
     "output_type": "stream",
     "text": [
      "Error: no \"view\" rule for type \"image/png\" passed its test case\n",
      "       (for more information, add \"--debug=1\" on the command line)\n"
     ]
    }
   ],
   "source": [
    "from graphviz import Digraph\n",
    "\n",
    "# Create a new directed graph\n",
    "dot = Digraph(comment='SMELLNET Dataset Structure', format='png')\n",
    "dot.attr(rankdir='LR', size='10,5')\n",
    "\n",
    "# Sensor Input Sources\n",
    "dot.node('A', 'Smell Sensors\\n(BME680, MQ-x, etc.)')\n",
    "dot.node('B', 'Environmental Metadata\\n(temp, humidity, etc.)')\n",
    "dot.node('C', 'GC-MS Data\\n(High-res chemical vectors)')\n",
    "\n",
    "# Processing & Pairing\n",
    "dot.node('D', 'Paired Data\\n(Metadata, GC-MS, Sensor)')\n",
    "dot.node('E', 'Preprocessing\\n(First-Order Gradient,\\nNormalization, etc.)')\n",
    "\n",
    "# Categories & Ingredients\n",
    "dot.node('F', '50 Substances\\n(Nuts, Spices,\\nFruits, etc.)')\n",
    "\n",
    "# Time Series Structure\n",
    "dot.node('G', '180,000 Time Steps\\n1 Hz Sampling\\n50 Hours Total')\n",
    "\n",
    "# Model Use\n",
    "dot.node('H', 'Model Input\\n(e.g., Transformers,\\nContrastive Models)')\n",
    "\n",
    "# Dataset Modalities Flow\n",
    "dot.edges(['AD', 'BD', 'CD'])       # Inputs -> Paired Data\n",
    "dot.edge('D', 'E')                  # Preprocessing\n",
    "dot.edge('E', 'F')                  # Mapping to Substances\n",
    "dot.edge('F', 'G')                  # Structure Over Time\n",
    "dot.edge('G', 'H')                  # Final Model Input\n",
    "\n",
    "# Render the diagram\n",
    "dot.render('smellnet_dataset_structure', view=True)\n"
   ]
  }
 ],
 "metadata": {
  "kernelspec": {
   "display_name": "base",
   "language": "python",
   "name": "python3"
  },
  "language_info": {
   "codemirror_mode": {
    "name": "ipython",
    "version": 3
   },
   "file_extension": ".py",
   "mimetype": "text/x-python",
   "name": "python",
   "nbconvert_exporter": "python",
   "pygments_lexer": "ipython3",
   "version": "3.13.2"
  }
 },
 "nbformat": 4,
 "nbformat_minor": 5
}
